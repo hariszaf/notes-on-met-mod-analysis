{
 "cells": [
  {
   "cell_type": "markdown",
   "metadata": {},
   "source": [
    "# Biological insight\n",
    "\n",
    "Here I keep track of bio facts that can be of use in my *in silico* explorations.\n",
    "\n",
    "Apparently, this notebook will make much less sense since it will include pieces of information that do not necessarily lead somewhere :sweat_smile:"
   ]
  },
  {
   "cell_type": "markdown",
   "metadata": {},
   "source": [
    "\n",
    "\n",
    "\n",
    "\n",
    "*Pseudomonas aeruginosa*: May rely on glutamine synthetase and nitrate/nitrite reduction for glutamine production.\n",
    "\n",
    "\n"
   ]
  },
  {
   "cell_type": "markdown",
   "metadata": {},
   "source": [
    "## Growth-yield trade-off"
   ]
  },
  {
   "cell_type": "markdown",
   "metadata": {},
   "source": [
    "[Harvey et al.](https://doi.org/10.1016/j.jtbi.2014.07.011) (2014)\n",
    "\n",
    "\n",
    "They compared a syntrophic consortia to a monoculture with equivalent metabolic capability.\n",
    "They found that **consortia biomass is always lower** than a monoculture with the same metabolic dynamics.\n",
    "\n",
    "Increasing the **growth rate** or substrate affinity **does not explain** the observed consortial advantage.\n",
    "Increased metabolic pathway efficiency (yield) provides the observed increase in productivity.\n",
    "\n",
    "\n"
   ]
  },
  {
   "cell_type": "markdown",
   "metadata": {},
   "source": [
    "## Metabolic strategies\n",
    "\n",
    "Bacteria can **switch from sequential to co-utilization** of the available resources especially when the **concentrations** of those are **low** Okano et al. {cite}`okano2021hierarchical`."
   ]
  },
  {
   "cell_type": "markdown",
   "metadata": {},
   "source": [
    "From [D'Souza et al.](https://www.jstor.org/stable/24033837) (2014)\n",
    "\n",
    "* the loss of essential biosynthetic genes was generally beneficial when the required metabolite was sufficiently present in the cells’ growth environment, \n",
    "\n",
    "* the metabolite concentration an auxotroph required to attain WT growth levels differed significantly depending on the metabolite as well as the species analyzed, \n",
    "\n",
    "* the loss of different genes from the same metabolic pathway resulted in differential fitness consequences for the corresponding mutants, and \n",
    "\n",
    "* auxotrophs of two species that lacked the same biosynthetic gene responded very differently when exposed to the same concentrations of the required amino acid\n"
   ]
  },
  {
   "cell_type": "markdown",
   "metadata": {
    "vscode": {
     "languageId": "plaintext"
    }
   },
   "source": [
    "Mycobacterium tuberculosis is a shikimate pathway specialist (22); this pathway is strongly related to aromatic amino acid biosynthesis."
   ]
  }
 ],
 "metadata": {
  "language_info": {
   "name": "python"
  }
 },
 "nbformat": 4,
 "nbformat_minor": 2
}
