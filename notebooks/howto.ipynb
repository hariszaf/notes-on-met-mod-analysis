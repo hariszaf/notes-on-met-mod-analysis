{
 "cells": [
  {
   "cell_type": "markdown",
   "metadata": {},
   "source": [
    "# How to"
   ]
  },
  {
   "cell_type": "markdown",
   "metadata": {},
   "source": [
    "In this notebook, we will keep track of handy implementations for metabolic modeling related tasks."
   ]
  },
  {
   "cell_type": "markdown",
   "metadata": {},
   "source": [
    "## Linear Programming software\n",
    "\n",
    "\n",
    "### Get CPLEX\n",
    "\n",
    "When a software says it has CPLEX as a prerequisite, they refer to the [ILOG CPLEX Optimization Studio]()\n",
    "\n",
    "Analytical decision support toolkit for rapid development and deployment of optimization models using mathematical and constraint programming. It combines an integrated development environment with the powerful Optimization Programming Language and high-performance CPLEX and CP Optimizer solvers.\n",
    "\n",
    "\n",
    "https://hpc-community.unige.ch/t/guide-for-installing-ibm-cplex/2104\n",
    "\n",
    "\n",
    "CPLEX has an academic license and once you get this, you can then set Python and other interfaces to use it. \n",
    "However, this process can be rather challenging and more often than not it's far from straightforward.\n",
    "\n",
    "[In this link](https://hpc-community.unige.ch/t/guide-for-installing-ibm-cplex/2104) I found some good enough notes from 2022. \n",
    "\n",
    "\n",
    "https://academic.ibm.com/a2mt/email-auth#/\n",
    "\n"
   ]
  },
  {
   "cell_type": "markdown",
   "metadata": {},
   "source": [
    "## Media and environment setup"
   ]
  },
  {
   "cell_type": "markdown",
   "metadata": {},
   "source": [
    "### Extracellular reactions "
   ]
  },
  {
   "cell_type": "markdown",
   "metadata": {},
   "source": [
    "COMETS includes the capability to simulate reactions happening in the extracellular environment, without association to a specific organism. Users can implement either elementary reactions of arbitrary order based on mass-action kinetics, or enzyme-catalyzed reactions obeying Michaelis–Menten kinetics, e.g., for the simulation of extracellular enzymes.\n"
   ]
  },
  {
   "cell_type": "markdown",
   "metadata": {},
   "source": [
    "### Get complete medium for ModelSEED"
   ]
  },
  {
   "cell_type": "markdown",
   "metadata": {},
   "source": [
    "With the term *complete medium** we describe an *in silico* object where any compound that could be used as a nutrient, it is available for the model. \n",
    "\n",
    "To build this object for the case of ModelSEED, we need to first get all the possible compounds.\n",
    "And we can do this by first, getting locally the [ModelSEEDDatabase repo](https://github.com/ModelSEED/ModelSEEDDatabase).\n",
    "\n",
    "Then we can explore the `Biochemistry` folder of that to retrieve all possible nutrients that could be imported in our model. \n",
    "\n",
    "From the [Biochemistry folder of the dev branch](https://github.com/ModelSEED/ModelSEEDDatabase/tree/dev/Biochemistry) of the ModelSEEDDatabase repository, run:"
   ]
  },
  {
   "cell_type": "code",
   "execution_count": null,
   "metadata": {
    "vscode": {
     "languageId": "shellscript"
    }
   },
   "outputs": [],
   "source": [
    "!awk -F\"\\t\" '$6 != 1 && $18==0  {print $5}' reaction_*.tsv   > TRANSPORT_REACTIONS.tsv"
   ]
  },
  {
   "cell_type": "markdown",
   "metadata": {},
   "source": [
    "Now, with something like the following Python chunk, you can build the complete medium \n",
    "and export in a `.csv` file that with the applied format, could be used for gapfilling with the `fill` command of the `gapseq` tool. "
   ]
  },
  {
   "cell_type": "code",
   "execution_count": null,
   "metadata": {},
   "outputs": [],
   "source": [
    "\n",
    "def write_to_gapseq_format(all_compounds, cpd2name, output_file):\n",
    "    \"\"\"\n",
    "    Write a 3-col csv file with the compound id, its name and a boundary flux of 1000\n",
    "    \"\"\"\n",
    "    with open(output_file, \"w\") as f:\n",
    "        counter = 0\n",
    "        for compound in all_compounds:\n",
    "            if compound in cpd2name:\n",
    "                counter += 1\n",
    "                f.write(f\"{compound}\\t{cpd2name[compound]}\\t1000\\n\")\n",
    "            else:\n",
    "                print(f\"Compound {compound} not found in cpd2name dictionary\")\n",
    "\n",
    "    print(f\"Total compounds written: {counter}\")\n",
    "\n",
    "\n",
    "def process_transport_reactions(input_file, output_file=None):\n",
    "    \"\"\"\n",
    "    Parse the TRANSPORT_REACTIONS.tsv file to export compounds that should be part of the complete medium.\n",
    "    \"\"\"\n",
    "    with open(input_file) as f:\n",
    "        lines = f.readlines()\n",
    "\n",
    "    ex = [line.strip() for line in lines if len(line.split(\";\")) == 2]\n",
    "\n",
    "    cpd2name = {}\n",
    "    all_compounds = set()\n",
    "\n",
    "    for reaction in ex:\n",
    "        compounds = reaction.split(\";\")\n",
    "        c1 = compounds[0].split(\":\")[1]\n",
    "        c2 = compounds[1].split(\":\")[1]\n",
    "        \n",
    "        if c1 == c2:\n",
    "            name = compounds[0].split(\":\")[-1]\n",
    "            all_compounds.add(c2)\n",
    "            if c2 not in cpd2name:\n",
    "                cpd2name[c2] = name\n",
    "\n",
    "    if output_file is not None:\n",
    "        write_to_gapseq_format(all_compounds, cpd2name, output_file)\n",
    "\n",
    "# Main execution\n",
    "if __name__ == \"__main__\":\n",
    "    process_transport_reactions(\"TRANSPORT_REACTIONS.tsv\", \"complete_modelseed_medium.csv\")"
   ]
  },
  {
   "cell_type": "code",
   "execution_count": null,
   "metadata": {},
   "outputs": [],
   "source": []
  }
 ],
 "metadata": {
  "language_info": {
   "name": "python"
  }
 },
 "nbformat": 4,
 "nbformat_minor": 2
}
