{
 "cells": [
  {
   "cell_type": "markdown",
   "metadata": {},
   "source": [
    "# *How to*\n",
    "\n",
    "In this notebook, we keep track of implementations of tricky tasks."
   ]
  },
  {
   "cell_type": "markdown",
   "metadata": {},
   "source": [
    "### Can I have extracellular reactions on my model\n",
    "\n",
    "COMETS includes the capability to simulate reactions happening in the extracellular environment, without association to a specific organism. \n",
    "Users can implement either elementary reactions of arbitrary order based on mass-action kinetics, or enzyme-catalyzed reactions obeying Michaelis–Menten kinetics, \n",
    "e.g., for the simulation of extracellular enzymes.\n",
    "\n",
    "\n",
    "Extracellular reactions are present in some microbial communities owing to the activity of secreted extracellular enzymes. \n",
    "They can also represent feed-back loops in systems like a plant's root. \n",
    "\n",
    "For an example have a look at this [COMETS protocol](https://github.com/segrelab/COMETS_Protocols/tree/master/COMETS_protocols/COMETS_example_Extracellular_Reactions/Matlab).\n",
    "To perform this, you will have first to follow the steps mentioned in the [COMETS recent paper](https://www.nature.com/articles/s41596-021-00593-3)."
   ]
  },
  {
   "cell_type": "code",
   "execution_count": null,
   "metadata": {},
   "outputs": [],
   "source": []
  }
 ],
 "metadata": {
  "language_info": {
   "name": "python"
  }
 },
 "nbformat": 4,
 "nbformat_minor": 2
}
