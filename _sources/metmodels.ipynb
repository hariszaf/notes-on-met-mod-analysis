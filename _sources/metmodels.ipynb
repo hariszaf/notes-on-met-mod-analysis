{
 "cells": [
  {
   "cell_type": "markdown",
   "metadata": {},
   "source": [
    "# Metabolic models"
   ]
  },
  {
   "cell_type": "markdown",
   "metadata": {},
   "source": [
    "## Basics"
   ]
  },
  {
   "cell_type": "markdown",
   "metadata": {},
   "source": [
    "\n",
    "```{prf:definition} flux\n",
    ":label: flux\n",
    "(from {cite}`stephanopoulos1999metabolic`)\n",
    "The metabolic flux can be defined as the rate at which material is processed through a metabolic pathway.\n",
    "A reaction's flux refers to the **rate** at which the biochemical reaction proceeds in a biological system.\n",
    "It's a measure of *how quickly* reactants are being converted into products within a specific cellular context. \n",
    "\n",
    "For insightful visualization that may help you with the concept of a flux, you may have a look [here](https://biochem.web.utah.edu/iwasa/metabolism/chapter2.html).\n",
    "\n",
    "```\n",
    "\n"
   ]
  },
  {
   "cell_type": "markdown",
   "metadata": {},
   "source": []
  },
  {
   "cell_type": "code",
   "execution_count": null,
   "metadata": {},
   "outputs": [],
   "source": []
  },
  {
   "cell_type": "markdown",
   "metadata": {},
   "source": [
    "## Genome-scale models"
   ]
  },
  {
   "cell_type": "markdown",
   "metadata": {},
   "source": [
    "### Background: strain level"
   ]
  },
  {
   "cell_type": "markdown",
   "metadata": {},
   "source": [
    "In a simplified picture of balanced growth, all metabolic processes are balanced: \n",
    "the rate at which material flows into the cell matches the rate at which it is converted, which again matches the production rate of macromolecule precursors. \n",
    "In addition, we assume that these fluxes are constant, such that the whole metabolic network is in a ‘steady-state’. \n",
    "Taken together, we thus assume that the metabolic network can take up and produce external metabolites (e.g. extracellular metabolites and macromolecular precursors), \n",
    "but that all internal metabolites (“inside” the metabolic network) are mass-balanced, that is, for each of these metabolites, production and consumption cancel out."
   ]
  },
  {
   "cell_type": "markdown",
   "metadata": {},
   "source": [
    "Since each enzyme has a maximal catalytic rate (the $k_{cat}$ value), a reaction flux will require a certain (minimal) amount of enzyme, which takes up cellular space;\n",
    "since cellular space is limited, fluxes cannot increase infinitely since there is always an upper bound on a weighted sum of reaction fluxes. \n",
    "This constraint implies compromises between different reaction fluxes: one flux can only be increased at the expense of others."
   ]
  },
  {
   "cell_type": "markdown",
   "metadata": {},
   "source": [
    "\n",
    "```{prf:definition} Balanced growth\n",
    ":label: Balanced growth\n",
    "\n",
    "**Balanced growth** is the average state of a cell in a cell bacterial population growing exponentially at the specific (constant) growth rate $ \\mu ≥ 0 $, \n",
    "i.e. the amount of produced biomass per biomass per cell per unit of time. \n",
    "\n",
    "```"
   ]
  },
  {
   "cell_type": "markdown",
   "metadata": {},
   "source": [
    "The mathematical model: \n",
    "- *variables* to describe: the metabolic **fluxes** in steady-state metabolism, \n",
    "-  *constraints* to apply: the **balance** of production and consumption of all **internal** metabolites\n",
    "\n",
    "Importantly, the model will be able to describe compromise: for example, with a given carbon influx and assuming mass balance, the carbon atoms can either be\n",
    "used to generate energy **or** biomass; if one function increases, the other one goes down. \n",
    "\n",
    "To obtain realistic predictions, we may introduce additional constraints, for example known flux directions or experimentally measured uptake rates. \n",
    "\n",
    "All this information will not suffice to predict metabolic fluxes precisely, but it allows us to narrow down the possible flux distributions. \n"
   ]
  },
  {
   "cell_type": "markdown",
   "metadata": {},
   "source": []
  },
  {
   "cell_type": "markdown",
   "metadata": {},
   "source": [
    "\n",
    "\\begin{align}\n",
    "N \\times  v = 0 = N \\times v^+  - N \\times v^- = \n",
    "\\left[ N \\ {-N} \\right] \n",
    "\\begin{bmatrix}\n",
    "    v^+  \\\\\n",
    "    v^-\n",
    "\\end{bmatrix} \\qquad\n",
    "\\end{align}\n",
    "\n"
   ]
  },
  {
   "cell_type": "markdown",
   "metadata": {},
   "source": [
    "The mass-balance constraints in the previous equation, combined with the property that $v_i^+$ , $v_i^- ≥ 0$ can be expressed in the form\n"
   ]
  },
  {
   "cell_type": "markdown",
   "metadata": {},
   "source": [
    "\\begin{align}\n",
    "A\n",
    "\\begin{bmatrix}\n",
    "    v^+  \\\\\n",
    "    v^-\n",
    "\\end{bmatrix}\n",
    "\\geq 0\n",
    "\\end{align}\n"
   ]
  },
  {
   "cell_type": "markdown",
   "metadata": {},
   "source": [
    "where:\n",
    "\n",
    "$$\n",
    "A = \\begin{bmatrix}\n",
    "N  &  {-N} \\\\\n",
    "{-N} &  N \\\\\n",
    "I   &   0  \\\\\n",
    "0   &   I \n",
    "\\end{bmatrix}\n",
    "$$"
   ]
  },
  {
   "cell_type": "markdown",
   "metadata": {},
   "source": [
    "The set of constraints on ($v^+$ , $v^−$ ) define a **polyhedral cone** and since they are non-negative, the cone is also pointed, meaning it contains no complete line and the zero vector is the only vertex\n",
    "(extreme point) of the cone. "
   ]
  },
  {
   "cell_type": "markdown",
   "metadata": {},
   "source": [
    "The space of solutions that satisfies  is called the **flux cone**."
   ]
  },
  {
   "cell_type": "markdown",
   "metadata": {},
   "source": [
    "### Background: community level"
   ]
  },
  {
   "cell_type": "markdown",
   "metadata": {},
   "source": [
    "Constraint-based modeling of microbial communities is more complicated compared to single organisms \n",
    "and this is because of the **interdependencies** *between* the **metabolic objectives of microorganisms** in the community.\n",
    "This is reflecting the fact that the metabolic performance (fitness) of each organism is dependent on all others, either directly or indirectly.\n",
    "\n",
    "the community metabolic state in a constraint-based stoichiometric model of the microbial community would have to emerge from the multi-objective optimization of each of those performances, taking into account trade-offs and possibly allowing for suboptimal strategies\n",
    "\n",
    " Hence, a nonlinear multi-objective optimization perspective appears most appropriate\n",
    "\n",
    " However, the commonly used **community FBA (cFBA)** does **not** consider the above and makes use of a much simpler framework, considering the microbial community under study being in a **balanced growth**. "
   ]
  },
  {
   "cell_type": "markdown",
   "metadata": {},
   "source": [
    "```{prf:definition} Balanced growth at the community level\n",
    ":label: Balanced growth community\n",
    "\n",
    "Moving from the strain to the community level, balanced growth definition **extends**.\n",
    "In this case, **all** metabolites (intra- and extracellular) to attain a steady state level {cite}`khandelwal2013community`.\n",
    "This means that **species grow exponentially, but **their total biomass and proportions** remain **constant**.\n",
    "\n",
    "```"
   ]
  },
  {
   "cell_type": "markdown",
   "metadata": {},
   "source": [
    "However, such a case should not be considered as a given for what really goes on in real-world communities, since\n",
    "by definition, the community balanced growth requires dependencies between species. \n",
    "\n",
    "Yet, these dependencies are **dynamic** and can also be **negative**; cFBA suffers in both these cases. "
   ]
  },
  {
   "cell_type": "markdown",
   "metadata": {},
   "source": [
    ":::{important} Balanced growth at the community level is not the only option\n",
    "\n",
    "A multi-level and multi-objective optimization formulation to properly describe trade-offs between individual vs. community level fitness criteria.\n",
    "`OptCom` interrelate the objectives of individual organisms {cite}`zomorrodi2012optcom`.\n",
    ":::\n",
    "\n"
   ]
  },
  {
   "cell_type": "markdown",
   "metadata": {},
   "source": [
    "## Metabolic models with `cobrapy`"
   ]
  },
  {
   "cell_type": "markdown",
   "metadata": {},
   "source": [
    "### Boundary reactions \n",
    "\n",
    "As described in the [`cobrapy` ReadTheDocs](https://cobrapy.readthedocs.io/en/latest/building_model.html), boundary reactions are\n",
    "**unbalanced pseudo reactions**, that means they fulfill a function for modeling by adding to or removing metabolites from the model system but are not based on real biology. \n",
    "\n",
    "- An **exchange reaction** is a *reversible* reaction that adds to or removes an extracellular metabolite from the extracellular compartment. \n",
    "\n",
    "- A **demand reaction** is an *irreversible* reaction that *consumes an intracellular metabolite*. \n",
    "  \n",
    "- A **sink** is similar to an exchange, but specifically for *intracellular metabolites*, i.e., a reversible reaction that adds or removes an intracellular metabolite.\n",
    "\n",
    "An interesting [issue](https://github.com/opencobra/cobrapy/issues/727) on the topic.\n",
    "\n"
   ]
  },
  {
   "cell_type": "markdown",
   "metadata": {},
   "source": [
    "### Groups\n",
    "\n",
    "\n",
    "By `group.kind` one may get the kind of group. \n",
    "\n",
    "Members of a *classification* group should have an *is-a* relationship to the group (e.g. member is-a polar compound, or member is-a transporter). \n",
    "\n",
    "Members of a *partonomy* group should have a *part-of* relationship (e.g. member is part-of glycolysis).\n",
    "\n",
    "Members of a *collection* group do not have an implied relationship between the members, so use this value for kind when in doubt (e.g. member is a gap-filled reaction, or member is involved in a disease phenotype).\n",
    "\n",
    "\n"
   ]
  },
  {
   "cell_type": "code",
   "execution_count": null,
   "metadata": {},
   "outputs": [],
   "source": []
  },
  {
   "cell_type": "markdown",
   "metadata": {},
   "source": [
    "## Kinetic models"
   ]
  },
  {
   "cell_type": "markdown",
   "metadata": {},
   "source": [
    "Kinetic models are typically formulated as a set of deterministic **ordinary differential equations (ODEs)**.\n",
    "\n"
   ]
  },
  {
   "cell_type": "markdown",
   "metadata": {},
   "source": [
    "<!-- ```{prf:definition} $k_{cat}$\n",
    ":label: k_cat\n",
    "\n",
    "``` -->"
   ]
  },
  {
   "cell_type": "markdown",
   "metadata": {},
   "source": [
    "```{prf:definition} kinetic variables\n",
    ":label: kinetic variables\n",
    "\n",
    "kinetic parameters:\n",
    "- $k_{cat}$: It is the maximum rate at which an enzyme can catalyze a specific reaction when it is saturated with substrate. \n",
    "It indicates the number of substrate molecules converted into product per enzyme molecule per unit time under optimal conditions. \n",
    "In simpler terms, it reflects how fast an enzyme can convert substrate into product.\n",
    "\n",
    "- $K_M$: \n",
    "\n",
    "\n",
    "- $\\frac {k_{cat}}{ K_M}$:\n",
    "\n",
    "\n",
    "```"
   ]
  },
  {
   "cell_type": "markdown",
   "metadata": {},
   "source": []
  },
  {
   "cell_type": "markdown",
   "metadata": {},
   "source": [
    "Assumptions used in the formulation of biological network models\n",
    "\n",
    "\n",
    "| Assumption |  Description | \n",
    "|:----------:|:-------------:|\n",
    "| Continuum assumption | Do not deal with individual molecules, but treat medium as a continuum |\n",
    "|  Finer spatial structure ignored | Medium is homogeneous|\n",
    "|  Constant-volume assumption |  V is time-invariant, $\\frac {dV} {dt} = 0$ |\n",
    "|  Constant temperature |  Isothermal systems; Kinetic properties a constant |\n",
    "|  Ignore physico-chemical factors | Electroneutrality and osmotic pressure can be important factors, but are ignored\n",
    "\n",
    "\n",
    "\n",
    "\n"
   ]
  },
  {
   "cell_type": "markdown",
   "metadata": {},
   "source": [
    "\n",
    "\n"
   ]
  },
  {
   "cell_type": "markdown",
   "metadata": {},
   "source": [
    "The **stoichiometric matrix** ($S$) represents the reaction topology of a network. For an overview on its characteristics see {cite}`palsson2006systems`."
   ]
  },
  {
   "cell_type": "markdown",
   "metadata": {},
   "source": [
    "```{prf:definition} gradient matrix \n",
    ":label: gradient matrix \n",
    "\n",
    "(from {cite}`palsson2006systems`)\n",
    "Each link in a reaction map has kinetic properties with which it is associated.\n",
    "The reaction rates that describe the kinetic properties are found in the rate laws, $v(x; k)$, where the vector $k$ contains all the kinetic constants that appear in the rate laws. \n",
    "Ultimately, these properties represent time constants that tell us how quickly a link in a network will respond to the concentrations that are involved in that link.\n",
    "\n",
    "The *reciprocal* of these time constants is found in the gradient matrix $G$, whose elements are\n",
    "\n",
    "$$\n",
    "g_{ij} =\\frac{\\partial v_i}{\\partial x_j}\n",
    "$$\n",
    "\n",
    "These constants may change from one member to the next in a biopop-\n",
    "ulation, given the natural sequence diversity that exists. Therefore, the\n",
    "gradient matrix is a *genetically determined* matrix. Two members of the\n",
    "population may have a different $G$ matrix. \n",
    "```\n",
    "<!-- reciprocal:  the number 1/x, which multiplied by x gives the product 1, also known as a reciprocal -->"
   ]
  },
  {
   "cell_type": "markdown",
   "metadata": {},
   "source": [
    "Mathematically speaking, $G$ has several challenging features. \n",
    "Unlike the stoichiometric matrix, its numerical values vary over many orders of magnitude.\n",
    "Some links have very fast response times, while others have long response times. \n",
    "The entries of $G$ are real numbers and, therefore, are not “knowable.” \n",
    "The values of $G$ will always come with an error bar associated with the experimental method used to determine them. \n",
    "It has though, the same sparsity properties as the matrix $S$.\n",
    "\n"
   ]
  },
  {
   "cell_type": "markdown",
   "metadata": {},
   "source": [
    "```{prf:definition} Jacobian matrix\n",
    ":label: jacobian matrix\n",
    "\n",
    "$S$ gives us network structure and $G$ gives us kinetic parameters of the links in the network.\n",
    "Their product, the **Jacobian matrix** ($J$)  gives us the network dynamics.\n",
    "\n",
    "```\n"
   ]
  },
  {
   "cell_type": "markdown",
   "metadata": {},
   "source": [
    "\n",
    "```{prf:observation}\n",
    ":label: units\n",
    "\n",
    "Fluxes are measured in moles per unit of time per cell. \n",
    "\n",
    "\n",
    "```\n",
    "\n"
   ]
  },
  {
   "cell_type": "code",
   "execution_count": null,
   "metadata": {},
   "outputs": [],
   "source": []
  },
  {
   "cell_type": "markdown",
   "metadata": {},
   "source": [
    "```{prf:definition} MASS model\n",
    ":label: MASS\n",
    "\n",
    "a metabolic network model that explicitly accounts for the regulatory enzymes, and all their bound states, as components in the network. \n",
    "The result is a data-driven process for constructing mass action stoichiometric simulation (MASS) models that are based on mapping top-down omics data onto bottom-up network reconstructions.\n",
    "\n",
    "For more about MASS models you may check Palsson's book on dynamic models {cite}`palsson2011systems` and one of his papers {cite}`jamshidi2010mass`\n",
    "\n",
    "```"
   ]
  },
  {
   "cell_type": "markdown",
   "metadata": {},
   "source": []
  },
  {
   "cell_type": "markdown",
   "metadata": {},
   "source": [
    "## Enzymatic constraints \n",
    "\n",
    "adssa"
   ]
  },
  {
   "cell_type": "code",
   "execution_count": null,
   "metadata": {},
   "outputs": [],
   "source": []
  },
  {
   "cell_type": "code",
   "execution_count": null,
   "metadata": {},
   "outputs": [],
   "source": []
  },
  {
   "cell_type": "markdown",
   "metadata": {},
   "source": [
    "## Community models \n",
    "\n",
    "Here we keep some insight on how to build such models.\n",
    "\n",
    "\n",
    "From `cite`{wedmark_hierarchy_2024}\n",
    "\n",
    ":::{admonition} **Quote**!\n",
    ":class: tip\n",
    "\n",
    "The community model was made by **merging the individual models into a new model** and **connecting them through exchanged metabolites in a shared compartment**. \n",
    "Specifically, the exchange reactions of the individual models were connected to the shared metabolites and new exchange reactions between the shared compartment and the environment were created, allowing the inter microbial and environmental exchanges described in Fig 1A of Taffs et al. [26]. \n",
    "A **pseudo-metabolite consisting of equal shares of biomass from each of the individual microbes** was constructed and used as the substrate in a community biomass reaction, thus requiring balanced growth of all three microbes.\n",
    "\n",
    ":::\n",
    "\n"
   ]
  },
  {
   "cell_type": "code",
   "execution_count": null,
   "metadata": {},
   "outputs": [],
   "source": []
  },
  {
   "cell_type": "code",
   "execution_count": null,
   "metadata": {},
   "outputs": [],
   "source": []
  },
  {
   "cell_type": "code",
   "execution_count": null,
   "metadata": {},
   "outputs": [],
   "source": []
  }
 ],
 "metadata": {
  "kernelspec": {
   "display_name": "Python 3",
   "language": "python",
   "name": "python3"
  },
  "language_info": {
   "codemirror_mode": {
    "name": "ipython",
    "version": 3
   },
   "file_extension": ".py",
   "mimetype": "text/x-python",
   "name": "python",
   "nbconvert_exporter": "python",
   "pygments_lexer": "ipython3",
   "version": "3.10.12"
  }
 },
 "nbformat": 4,
 "nbformat_minor": 2
}
