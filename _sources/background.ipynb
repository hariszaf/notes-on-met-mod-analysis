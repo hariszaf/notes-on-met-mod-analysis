{
 "cells": [
  {
   "cell_type": "markdown",
   "metadata": {},
   "source": [
    "# Metabolic models"
   ]
  },
  {
   "cell_type": "code",
   "execution_count": null,
   "metadata": {},
   "outputs": [],
   "source": []
  },
  {
   "cell_type": "markdown",
   "metadata": {},
   "source": [
    "\n",
    "```{prf:definition} Balanced growth\n",
    ":label: Balanced growth\n",
    "\n",
    "**Balanced growth** is the average state of a cell in a cell bacterial population growing exponentially at the specific (constant) growth rate $$ \\mu ≥ 0 $$, \n",
    "i.e. the amount of produced biomass per biomass per cell per unit of time. \n",
    "\n",
    "```"
   ]
  },
  {
   "cell_type": "markdown",
   "metadata": {},
   "source": [
    "```{prf:definition} $k_{cat}$\n",
    ":label: k_cat\n",
    "It is the maximum rate at which an enzyme can catalyze a specific reaction when it is saturated with substrate. \n",
    "It indicates the number of substrate molecules converted into product per enzyme molecule per unit time under optimal conditions. \n",
    "In simpler terms, it reflects how fast an enzyme can convert substrate into product.\n",
    "```"
   ]
  },
  {
   "cell_type": "markdown",
   "metadata": {},
   "source": [
    "```{prf:definition} reaction flux\n",
    ":label: reaction flux\n",
    "Reaction flux refers to the **rate** at which a biochemical reaction proceeds in a biological system. \n",
    "It's a measure of *how quickly* reactants are being converted into products within a specific cellular context. "
   ]
  },
  {
   "cell_type": "markdown",
   "metadata": {},
   "source": [
    "In a simplified picture of balanced growth, all metabolic processes are balanced: \n",
    "the rate at which material flows into the cell matches the rate at which it is converted, which again matches the production rate of macromolecule precursors. \n",
    "In addition, we assume that these fluxes are constant, such that the whole metabolic network is in a ‘steady-state’. \n",
    "Taken together, we thus assume that the metabolic network can take up and produce external metabolites (e.g. extracellular metabolites and macromolecular precursors), \n",
    "but that all internal metabolites (“inside” the metabolic network) are mass-balanced, that is, for each of these metabolites, production and consumption cancel out."
   ]
  },
  {
   "cell_type": "markdown",
   "metadata": {},
   "source": [
    "Since each enzyme has a maximal catalytic rate (the $k_{cat}$ value), a reaction flux will require a certain (minimal) amount of enzyme, which takes up cellular space;\n",
    "since cellular space is limited, fluxes cannot increase infinitely since there is always an upper bound on a weighted sum of reaction fluxes. \n",
    "This constraint implies compromises between different reaction fluxes: one flux can only be increased at the expense of others."
   ]
  },
  {
   "cell_type": "markdown",
   "metadata": {},
   "source": [
    "The mathematical model: \n",
    "- *variables* to describe: the metabolic **fluxes** in steady-state metabolism, \n",
    "-  *constraints* to apply: the **balance** of production and consumption of all **internal** metabolites\n",
    "\n",
    "Importantly, the model will be able to describe compromise: for example, with a given carbon influx and assuming mass balance, the carbon atoms can either be\n",
    "used to generate energy **or** biomass; if one function increases, the other one goes down. \n",
    "\n",
    "To obtain realistic predictions, we may introduce additional constraints, for example known flux directions or experimentally measured uptake rates. \n",
    "\n",
    "All this information will not suffice to predict metabolic fluxes precisely, but it allows us to narrow down the possible flux distributions. \n"
   ]
  },
  {
   "cell_type": "markdown",
   "metadata": {},
   "source": []
  },
  {
   "cell_type": "markdown",
   "metadata": {},
   "source": [
    "\n",
    "\\begin{align}\n",
    "N \\times  v = 0 = N \\times v^+  - N \\times v^- = \n",
    "\\left[ N \\ {-N} \\right] \n",
    "\\begin{bmatrix}\n",
    "    v^+  \\\\\n",
    "    v^-\n",
    "\\end{bmatrix} \\qquad\n",
    "\\end{align}\n",
    "\n"
   ]
  },
  {
   "cell_type": "markdown",
   "metadata": {},
   "source": [
    "The mass-balance constraints in the previous equation, combined with the property that $v_i^+$ , $v_i^- ≥ 0$ can be expressed in the form\n"
   ]
  },
  {
   "cell_type": "markdown",
   "metadata": {},
   "source": [
    "\\begin{align}\n",
    "A\n",
    "\\begin{bmatrix}\n",
    "    v^+  \\\\\n",
    "    v^-\n",
    "\\end{bmatrix}\n",
    "\\geq 0\n",
    "\\end{align}\n"
   ]
  },
  {
   "cell_type": "markdown",
   "metadata": {},
   "source": [
    "where:\n",
    "\n",
    "$$\n",
    "A = \\begin{bmatrix}\n",
    "N  &  {-N} \\\\\n",
    "{-N} &  N \\\\\n",
    "I   &   0  \\\\\n",
    "0   &   I \n",
    "\\end{bmatrix}\n",
    "$$"
   ]
  },
  {
   "cell_type": "markdown",
   "metadata": {},
   "source": [
    "The set of constraints on ($v^+$ , $v^−$ ) define a **polyhedral cone** and since they are non-negative, the cone is also pointed, meaning it contains no complete line and the zero vector is the only vertex\n",
    "(extreme point) of the cone. "
   ]
  },
  {
   "cell_type": "markdown",
   "metadata": {},
   "source": []
  },
  {
   "cell_type": "markdown",
   "metadata": {},
   "source": [
    "The space of solutions that satisfies  is called the **flux cone**."
   ]
  }
 ],
 "metadata": {
  "kernelspec": {
   "display_name": "Python 3",
   "language": "python",
   "name": "python3"
  },
  "language_info": {
   "codemirror_mode": {
    "name": "ipython",
    "version": 3
   },
   "file_extension": ".py",
   "mimetype": "text/x-python",
   "name": "python",
   "nbconvert_exporter": "python",
   "pygments_lexer": "ipython3",
   "version": "3.10.12"
  }
 },
 "nbformat": 4,
 "nbformat_minor": 2
}
