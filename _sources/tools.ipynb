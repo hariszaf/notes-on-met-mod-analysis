{
 "cells": [
  {
   "cell_type": "markdown",
   "metadata": {},
   "source": [
    "# Software packages"
   ]
  },
  {
   "cell_type": "markdown",
   "metadata": {},
   "source": [
    "In this page we will keep a list of the software approaches we are aware of for the various metabolic modeling tasks. \n",
    "Apparently, this list can never be complete, but it can be improved with your contribution! \n",
    "So, feel free to make a PR adding something or contact us to do that for you. "
   ]
  },
  {
   "cell_type": "markdown",
   "metadata": {},
   "source": [
    "## Reconstruction, gap-flling, validation \n",
    "\n",
    "- DEMETER\n",
    "- \n"
   ]
  },
  {
   "cell_type": "code",
   "execution_count": null,
   "metadata": {
    "vscode": {
     "languageId": "plaintext"
    }
   },
   "outputs": [],
   "source": []
  },
  {
   "cell_type": "markdown",
   "metadata": {},
   "source": [
    "## Topological approaches\n",
    "\n",
    "- QFCA\n"
   ]
  },
  {
   "cell_type": "markdown",
   "metadata": {},
   "source": [
    "## Static approaches\n",
    "\n"
   ]
  },
  {
   "cell_type": "markdown",
   "metadata": {},
   "source": [
    "## Dynamic approaches\n",
    "\n",
    "- **dfba**\n",
    "[GitLab repo](https://gitlab.com/davidtourigny/dynamic-fba)\n",
    "[Documentation](https://dynamic-fba.readthedocs.io/en/latest/)\n",
    "[paper]()\n",
    "A recent approach for dynamic FBA that considers the solution non-uniqueness.\n",
    "\n",
    "-**COMETS**\n",
    "\n",
    "\n",
    "-**BacArena**\n",
    "\n",
    "\n"
   ]
  },
  {
   "cell_type": "markdown",
   "metadata": {},
   "source": [
    "## Community modelling \n",
    "\n",
    "- mergem\n",
    "- PyCoMo\n",
    "- \n",
    "\n"
   ]
  }
 ],
 "metadata": {
  "language_info": {
   "name": "python"
  }
 },
 "nbformat": 4,
 "nbformat_minor": 2
}
