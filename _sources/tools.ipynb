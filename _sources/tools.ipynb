{
 "cells": [
  {
   "cell_type": "markdown",
   "metadata": {},
   "source": [
    "# Software and resources for metabolic modeling analysis"
   ]
  },
  {
   "cell_type": "markdown",
   "metadata": {},
   "source": [
    "In this page we will keep a list of the software approaches we are aware of for the various metabolic modeling tasks. \n",
    "Apparently, this list can never be complete, but it can be improved with your contribution! \n",
    "So, feel free to make a PR adding something or contact us to do that for you. "
   ]
  },
  {
   "cell_type": "markdown",
   "metadata": {},
   "source": [
    "## Reconstruction, gap-flling, validation \n",
    "\n",
    "- DEMETER\n",
    "- \n"
   ]
  },
  {
   "cell_type": "markdown",
   "metadata": {
    "vscode": {
     "languageId": "plaintext"
    }
   },
   "source": [
    "## Further constraints \n",
    "\n",
    "\n",
    "\n",
    "### Thermodynamics\n",
    "\n",
    "\n",
    "| Tool       | Description                                                                                                                     | Architecture | Repo                                                          | DOI                                             |\n",
    "| :--------- | :------------------------------------------------------------------------------------------------------------------------------ | :----------- | :------------------------------------------------------------ | :---------------------------------------------- |\n",
    "| pyTFA*    | implementations of the original thermodynamics-based Flux Analysis (TFA) paper. Specifically, they include explicit formulation of Gibbs energies and metabolite concentrations, which enables straightforward integration of metabolite concentration measurements. | stand-alone |  [GitHub](https://github.com/EPFL-LCSB/pytfa/tree/master)    | [OA](https://doi.org/10.1093/bioinformatics/bty499) | \n",
    "| OptMDFpathway** | integration of thermodynamic information in metabolic models to assess the feasibility of flux distributions by thermodynamic driving forces. Extends the framework of Max-min Driving Force (MDF) for thermodynamic pathway analysis. Identifies both the optimal MDF for a desired phenotypic behavior and the respective pathway that supports the optimal driving force. | stand-alone  | [GitHub](https://github.com/cnapy-org/CNApy/blob/master/cnapy/sd_ci_optmdfpathway.py) |  [OA](https://doi.org/10.1371/journal.pcbi.1006492) |\n",
    "\n",
    "\n",
    "\n",
    "* [matTFA](https://github.com/EPFL-LCSB/matTFA) is the MATLAB version of pyTFA\n",
    "** part of the CNApy library\n",
    "\n",
    "\n",
    "### Enzymes \n",
    "\n",
    "\n",
    "| Tool       | Description                                                                                                                     | Architecture | Repo                                                          | DOI                                             |\n",
    "| :--------- | :------------------------------------------------------------------------------------------------------------------------------ | :----------- | :------------------------------------------------------------ | :---------------------------------------------- |\n",
    "| AutoPACMEN | Retrieves kcat data and adds protein allocation constraints to stoichiometric metabolic models according to the sMOMENT method. | stand-alone  | [GitHub](https://github.com/klamt-lab/autopacmen/tree/master) | [OA](https://doi.org/10.1186/s12859-019-3329-9) |\n",
    "| ETGEMs | Construction of enzymatic and thermodynamic constrained GEMs in a single [Pyomo*](https://www.pyomo.org) modelling framework. | scripts | [GitHub](https://github.com/tibbdc/ETGEMs) | [OA](https://doi.org/10.1016/j.ymben.2021.06.005) |\n",
    "\n",
    "\n",
    "*Python-based, open-source optimization modeling language\n",
    "\n",
    "\n",
    "### Transporter annotations \n",
    "\n",
    "| Tool       | Description                                                                                           | Architecture | Repo                   | DOI             |\n",
    "| :---------- | :-------------------------------------------------------------------------------------------------- | :------------ | :--------------------- | :---------------|\n",
    "| SPOT* | machine learning model that can successfully predict specific substrates for arbitrary transport protein |  stand-alone  |  [GitHub](https://github.com/AlexanderKroll/SPOT) | [OA](https://doi.org/10.1371/journal.pbio.3002807) |\n",
    "| TranSyT | Identifies transport systems and the compounds carried across membranes, based on the annotations of the Transporter Classification Database (TCDB). Generates the respective transport reactions while providing the respective Gene-Protein-Reaction associations. |  [web-sevice](https://transyt.bio.di.uminho.pt) | [GitHub](https://github.com/BioSystemsUM/transyt) | [OA](https://doi.org/10.1093/bioinformatics/btad466)\n",
    "\n",
    "\n",
    "* They showed that the majority of TCDB entries are of low UniProt-based annotation scores.\n",
    "\n",
    "\n"
   ]
  },
  {
   "cell_type": "markdown",
   "metadata": {},
   "source": [
    "# Databases\n",
    "\n",
    "| Tool       | Description                                                                                           | Link | DOI             |\n",
    "| :---------- | :-------------------------------------------------------------------------------------------------- | :------------ | :---------------|\n",
    "| equilibrator |  estimated thermodynamic constants | [link](https://equilibrator.readthedocs.io/en/latest/tutorial.html#footcite-noor-consistent-2013) | [OA](https://doi.org/10.1093/nar/gkab1106) |\n",
    "| SABIO-RK | curated information about biochemical reactions, their kinetic rate equations with parameters and experimental conditions. | [link](http://sabio.h-its.org)  | [OA](https://doi.org/10.1093/nar/gkx1065) |\n",
    "\n",
    "\n",
    "\n",
    "\n",
    "has also an API library \n",
    "`equilibrator-api`\n",
    "[ReadTheDocs](https://equilibrator.readthedocs.io/en/latest/) |\n",
    "[GitLab](https://gitlab.com/equilibrator/equilibrator-api)\n",
    "\n",
    "and a cache one \n",
    "`equilibrator-cache`: A database application for caching data used by eQuilibrator and related projects. Stored data includes compound names, structures, protonation state information, reaction and enzyme info, and cross-references to other databases. All compounds stored in equilibrator-cache are cross-referenced using InChIKey.\n",
    "[GitLab](https://gitlab.com/equilibrator/equilibrator-cache)\n",
    "\n",
    "\n",
    "\n",
    "\n",
    "\n",
    "\n",
    "\n"
   ]
  },
  {
   "cell_type": "markdown",
   "metadata": {},
   "source": [
    "## Topological approaches\n",
    "\n",
    "- QFCA\n",
    "\n",
    "\n",
    "\n",
    "- **FluxModeCalculator**\n",
    "\n",
    "Efficient Elementary flux mode (EFM) calculation\n",
    "\n",
    "[paper](https://doi.org/10.1093/bioinformatics/btv742) |\n",
    "[GitHub](https://github.com/RezaMash/MCS/tree/master/flux_mode_calculator) (part of the `MCS` repo)\n",
    "\n"
   ]
  },
  {
   "cell_type": "markdown",
   "metadata": {},
   "source": [
    "\n"
   ]
  },
  {
   "cell_type": "markdown",
   "metadata": {},
   "source": [
    "## Dynamic approaches\n",
    "\n",
    "- **dfba**\n",
    "[GitLab repo](https://gitlab.com/davidtourigny/dynamic-fba)\n",
    "[Documentation](https://dynamic-fba.readthedocs.io/en/latest/)\n",
    "[paper]()\n",
    "A recent approach for dynamic FBA that considers the solution non-uniqueness.\n",
    "\n",
    "-**COMETS**\n",
    "\n",
    "\n",
    "-**BacArena**\n",
    "\n",
    "\n"
   ]
  },
  {
   "cell_type": "markdown",
   "metadata": {},
   "source": [
    "## Community modelling \n",
    "\n",
    "- mergem\n",
    "- PyCoMo\n",
    "- \n",
    "\n"
   ]
  },
  {
   "cell_type": "markdown",
   "metadata": {},
   "source": [
    "## Data integration \n",
    "\n",
    "\n",
    "- FASTCROMICS\n",
    "- TRFBA\n",
    "\n",
    "\n",
    "\n"
   ]
  },
  {
   "cell_type": "code",
   "execution_count": null,
   "metadata": {
    "vscode": {
     "languageId": "plaintext"
    }
   },
   "outputs": [],
   "source": []
  },
  {
   "cell_type": "markdown",
   "metadata": {},
   "source": [
    "tellurium:\n",
    "\n",
    "https://tellurium.analogmachine.org\n",
    "\n",
    "A Python Environment for Reproducible Dynamical Modeling of Biological Networks\n"
   ]
  },
  {
   "cell_type": "markdown",
   "metadata": {},
   "source": [
    "## Other resources and tools of interest\n",
    "\n",
    "- **gRodon2**\n",
    "\n",
    "Using genomic data predicts maximal growth rates.\n",
    "\n",
    "[Paper](https://doi.org/10.1073/pnas.2016810118) | [GitHub](https://github.com/jlw-ecoevo/gRodon2)"
   ]
  },
  {
   "cell_type": "markdown",
   "metadata": {},
   "source": []
  },
  {
   "cell_type": "code",
   "execution_count": null,
   "metadata": {
    "vscode": {
     "languageId": "plaintext"
    }
   },
   "outputs": [],
   "source": []
  },
  {
   "cell_type": "code",
   "execution_count": null,
   "metadata": {},
   "outputs": [],
   "source": []
  },
  {
   "cell_type": "markdown",
   "metadata": {},
   "source": []
  }
 ],
 "metadata": {
  "language_info": {
   "name": "python"
  }
 },
 "nbformat": 4,
 "nbformat_minor": 2
}
