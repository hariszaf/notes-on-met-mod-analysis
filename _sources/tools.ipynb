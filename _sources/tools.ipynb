{
 "cells": [
  {
   "cell_type": "markdown",
   "metadata": {},
   "source": [
    "# Software and resources for metabolic modeling analysis"
   ]
  },
  {
   "cell_type": "markdown",
   "metadata": {},
   "source": [
    "In this page we will keep a list of the software approaches we are aware of for the various metabolic modeling tasks. \n",
    "Apparently, this list can never be complete, but it can be improved with your contribution! \n",
    "So, feel free to make a PR adding something or contact us to do that for you. "
   ]
  },
  {
   "cell_type": "markdown",
   "metadata": {},
   "source": [
    "## Reconstruction, gap-flling, validation \n",
    "\n",
    "- DEMETER\n",
    "- \n"
   ]
  },
  {
   "cell_type": "markdown",
   "metadata": {
    "vscode": {
     "languageId": "plaintext"
    }
   },
   "source": [
    "## Further constraints \n",
    "\n",
    "\n",
    "- **pytfa**\n",
    "pyTFA and [matTFA](https://github.com/EPFL-LCSB/matTFA) (its MATLAB version) are the first published implementations of the original TFA paper. Specifically, they include explicit formulation of Gibbs energies and metabolite concentrations, which enables straightforward integration of metabolite concentration measurements.\n",
    "\n",
    "[GitHub](https://github.com/EPFL-LCSB/pytfa/tree/master) |\n",
    "[paper](https://doi.org/10.1093/bioinformatics/bty499)\n",
    "\n",
    "\n",
    "- **OptMDFpathway**\n",
    " integration of thermodynamic information in metabolic models to assess the feasibility of flux distributions by thermodynamic driving forces. Here we present OptMDFpathway, a method that extends the recently proposed framework of Max-min Driving Force (MDF) for thermodynamic pathway analysis. Given a metabolic network model, OptMDFpathway identifies both the optimal MDF for a desired phenotypic behavior as well as the respective pathway itself that supports the optimal driving force. OptMDFpathway is formulated as a mixed-integer linear program and is applicable to genome-scale metabolic networks. \n",
    "\n",
    "[paper](https://doi.org/10.1371/journal.pcbi.1006492) |\n",
    "[GitHub](https://github.com/cnapy-org/CNApy/blob/master/cnapy/sd_ci_optmdfpathway.py) - part of the CNApy library\n",
    "\n",
    "- **AutoPACMEN**\n",
    "\n",
    "Retrieves kcat data and adds protein allocation constraints to stoichiometric metabolic models according to the sMOMENT method.\n",
    "\n",
    "[GitHub](https://github.com/klamt-lab/autopacmen/tree/master) |\n",
    "[publication](https://doi.org/10.1186/s12859-019-3329-9)\n",
    "\n",
    "\n",
    "\n",
    "- **ETGEMs**\n",
    "\n",
    "Construction of enzymatic and thermodynamic constrained GEMs in a single [Pyomo](https://www.pyomo.org) modelling framework.\n",
    "\n",
    "Python-based, open-source optimization modeling language\n",
    "\n",
    "\n",
    "\n",
    "\n",
    "\n",
    "\n",
    "\n",
    "\n"
   ]
  },
  {
   "cell_type": "markdown",
   "metadata": {},
   "source": [
    "## Further databases\n",
    "\n",
    "- **equilibrator**\n",
    "\n",
    "[equilibrator](https://equilibrator.readthedocs.io/en/latest/tutorial.html#footcite-noor-consistent-2013)\n",
    "has also an API library \n",
    "`equilibrator-api`\n",
    "[ReadTheDocs](https://equilibrator.readthedocs.io/en/latest/) |\n",
    "[GitLab](https://gitlab.com/equilibrator/equilibrator-api)\n",
    "\n",
    "and a cache one \n",
    "`equilibrator-cache`: A database application for caching data used by eQuilibrator and related projects. Stored data includes compound names, structures, protonation state information, reaction and enzyme info, and cross-references to other databases. All compounds stored in equilibrator-cache are cross-referenced using InChIKey.\n",
    "[GitLab](https://gitlab.com/equilibrator/equilibrator-cache)\n",
    "\n",
    "\n",
    "\n",
    "- **SABIO-RK**\n",
    "\n",
    "[SABIO-RK](http://sabio.h-its.org) is a curated database that contains information about biochemical reactions,\n",
    "their kinetic rate equations with parameters and experimental conditions.\n",
    "\n",
    "\n"
   ]
  },
  {
   "cell_type": "markdown",
   "metadata": {},
   "source": [
    "## Topological approaches\n",
    "\n",
    "- QFCA\n",
    "\n",
    "\n",
    "\n",
    "- **FluxModeCalculator**\n",
    "\n",
    "Efficient Elementary flux mode (EFM) calculation\n",
    "\n",
    "[paper](https://doi.org/10.1093/bioinformatics/btv742) |\n",
    "[GitHub](https://github.com/RezaMash/MCS/tree/master/flux_mode_calculator) (part of the `MCS` repo)\n",
    "\n"
   ]
  },
  {
   "cell_type": "markdown",
   "metadata": {},
   "source": [
    "\n"
   ]
  },
  {
   "cell_type": "markdown",
   "metadata": {},
   "source": [
    "## Dynamic approaches\n",
    "\n",
    "- **dfba**\n",
    "[GitLab repo](https://gitlab.com/davidtourigny/dynamic-fba)\n",
    "[Documentation](https://dynamic-fba.readthedocs.io/en/latest/)\n",
    "[paper]()\n",
    "A recent approach for dynamic FBA that considers the solution non-uniqueness.\n",
    "\n",
    "-**COMETS**\n",
    "\n",
    "\n",
    "-**BacArena**\n",
    "\n",
    "\n"
   ]
  },
  {
   "cell_type": "markdown",
   "metadata": {},
   "source": [
    "## Community modelling \n",
    "\n",
    "- mergem\n",
    "- PyCoMo\n",
    "- \n",
    "\n"
   ]
  },
  {
   "cell_type": "markdown",
   "metadata": {},
   "source": [
    "## Data integration \n",
    "\n",
    "\n",
    "- FASTCROMICS\n",
    "- TRFBA\n",
    "\n",
    "\n",
    "\n"
   ]
  },
  {
   "cell_type": "code",
   "execution_count": null,
   "metadata": {
    "vscode": {
     "languageId": "plaintext"
    }
   },
   "outputs": [],
   "source": []
  },
  {
   "cell_type": "markdown",
   "metadata": {},
   "source": [
    "tellurium:\n",
    "\n",
    "https://tellurium.analogmachine.org\n",
    "\n",
    "A Python Environment for Reproducible Dynamical Modeling of Biological Networks\n"
   ]
  },
  {
   "cell_type": "markdown",
   "metadata": {},
   "source": []
  },
  {
   "cell_type": "markdown",
   "metadata": {},
   "source": []
  }
 ],
 "metadata": {
  "language_info": {
   "name": "python"
  }
 },
 "nbformat": 4,
 "nbformat_minor": 2
}
